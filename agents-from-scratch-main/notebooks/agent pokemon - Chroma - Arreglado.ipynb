{
 "cells": [
  {
   "cell_type": "markdown",
   "id": "7c47eb63",
   "metadata": {},
   "source": [
    "# 🤖 Agente Pokémon — ReAct + PokéAPI + RAG + Memoria (LangGraph)\n",
    "Incluye tools de comparación con esquema de argumentos (`compare_pokemon` + `compare_stat`).\n",
    "Ejecuta cada celda de arriba hacia abajo. Requiere `OPENAI_API_KEY` en tu `.env`.\n"
   ]
  },
  {
   "cell_type": "code",
   "execution_count": 8,
   "id": "bea42865",
   "metadata": {},
   "outputs": [
    {
     "name": "stdout",
     "output_type": "stream",
     "text": [
      "✅ LLM configurado correctamente\n"
     ]
    }
   ],
   "source": [
    "from dotenv import load_dotenv\n",
    "load_dotenv()\n",
    "from langchain_openai import ChatOpenAI\n",
    "import os\n",
    "\n",
    "assert os.getenv('OPENAI_API_KEY'), '⚠️ Falta OPENAI_API_KEY en el entorno o archivo .env'\n",
    "\n",
    "llm = ChatOpenAI(\n",
    "    model='gpt-4o-mini',\n",
    "    temperature=0.1,\n",
    "    max_tokens=600,\n",
    "    timeout=30,\n",
    "    max_retries=2\n",
    ")\n",
    "print('✅ LLM configurado correctamente')"
   ]
  },
  {
   "cell_type": "markdown",
   "id": "06b61438",
   "metadata": {},
   "source": [
    "## 📚 RAG: Embeddings + Chroma (conocimiento/lore de Pokémon)\n",
    "Reemplaza `seed_docs` por tus propios textos cuando quieras."
   ]
  },
  {
   "cell_type": "code",
   "execution_count": 9,
   "id": "2feaab00",
   "metadata": {},
   "outputs": [
    {
     "name": "stdout",
     "output_type": "stream",
     "text": [
      "✅ RAG (Chroma) listo\n"
     ]
    }
   ],
   "source": [
    "from langchain_openai import OpenAIEmbeddings\n",
    "from langchain_community.vectorstores import Chroma\n",
    "from langchain_core.documents import Document\n",
    "import os\n",
    "\n",
    "CHROMA_DIR = 'chroma_pokemon_knowledge'\n",
    "os.makedirs(CHROMA_DIR, exist_ok=True)\n",
    "\n",
    "seed_docs = [\n",
    "    Document(page_content='Gengar se oculta en las sombras y absorbe el calor del entorno.', metadata={'source':'lore'}),\n",
    "    Document(page_content='Alakazam posee un CI muy alto y recuerda todo desde su nacimiento.', metadata={'source':'lore'}),\n",
    "    Document(page_content='Pikachu almacena electricidad en sus mejillas y puede liberar potentes descargas.', metadata={'source':'lore'}),\n",
    "    Document(page_content='Charizard puede derretir rocas con su aliento de fuego.', metadata={'source':'lore'}),\n",
    "    Document(page_content='Bulbasaur realiza fotosíntesis con la semilla de su espalda.', metadata={'source':'lore'})\n",
    "]\n",
    "\n",
    "emb = OpenAIEmbeddings()\n",
    "vectorstore = Chroma.from_documents(seed_docs, embedding=emb, persist_directory=CHROMA_DIR)\n",
    "retriever = vectorstore.as_retriever(search_kwargs={'k': 3})\n",
    "print('✅ RAG (Chroma) listo')"
   ]
  },
  {
   "cell_type": "markdown",
   "id": "689598eb",
   "metadata": {},
   "source": [
    "## 🔧 Tools: PokéAPI + Tool de RAG + Comparadores con schema"
   ]
  },
  {
   "cell_type": "code",
   "execution_count": 10,
   "id": "db5d6c23",
   "metadata": {},
   "outputs": [
    {
     "name": "stdout",
     "output_type": "stream",
     "text": [
      "✅ Tools Pokémon + RAG listos (con schemas de comparación)\n"
     ]
    },
    {
     "name": "stderr",
     "output_type": "stream",
     "text": [
      "C:\\Users\\PC\\AppData\\Roaming\\Python\\Python312\\site-packages\\IPython\\core\\interactiveshell.py:3699: LangChainDeprecationWarning: As of langchain-core 0.3.0, LangChain uses pydantic v2 internally. The langchain_core.pydantic_v1 module was a compatibility shim for pydantic v1, and should no longer be used. Please update the code to import from Pydantic directly.\n",
      "\n",
      "For example, replace imports like: `from langchain_core.pydantic_v1 import BaseModel`\n",
      "with: `from pydantic import BaseModel`\n",
      "or the v1 compatibility namespace if you are working in a code base that has not been fully upgraded to pydantic 2 yet. \tfrom pydantic.v1 import BaseModel\n",
      "\n",
      "  exec(code_obj, self.user_global_ns, self.user_ns)\n"
     ]
    }
   ],
   "source": [
    "from langchain_core.tools import tool\n",
    "from langchain_core.pydantic_v1 import BaseModel, Field\n",
    "import requests\n",
    "\n",
    "BASE = 'https://pokeapi.co/api/v2'\n",
    "\n",
    "def _norm(s: str) -> str:\n",
    "    return s.strip().lower().replace(' ', '-').replace('.', '').replace(\"'\", '')\n",
    "\n",
    "# 1) Información de un Pokémon\n",
    "@tool('get_pokemon_info')\n",
    "def get_pokemon_info(name: str):\n",
    "    \"\"\"Devuelve tipos, stats, altura y peso de un Pokémon por nombre.\"\"\"\n",
    "    r = requests.get(f\"{BASE}/pokemon/{_norm(name)}\", timeout=20)\n",
    "    r.raise_for_status()\n",
    "    d = r.json()\n",
    "    return {\n",
    "        'name': d['name'],\n",
    "        'id': d.get('id'),\n",
    "        'types': [t['type']['name'] for t in d['types']],\n",
    "        'stats': {s['stat']['name']: s['base_stat'] for s in d['stats']},\n",
    "        'height': d.get('height'),\n",
    "        'weight': d.get('weight')\n",
    "    }\n",
    "\n",
    "# 2) Información de un tipo\n",
    "@tool('get_type_info')\n",
    "def get_type_info(type_name: str):\n",
    "    \"\"\"Devuelve fortalezas y debilidades de un tipo Pokémon.\"\"\"\n",
    "    r = requests.get(f\"{BASE}/type/{_norm(type_name)}\", timeout=20)\n",
    "    r.raise_for_status()\n",
    "    d = r.json()\n",
    "    rel = d['damage_relations']\n",
    "    return {\n",
    "        'name': d['name'],\n",
    "        'double_damage_to':   [t['name'] for t in rel['double_damage_to']],\n",
    "        'double_damage_from': [t['name'] for t in rel['double_damage_from']],\n",
    "        'half_damage_to':     [t['name'] for t in rel['half_damage_to']],\n",
    "        'half_damage_from':   [t['name'] for t in rel['half_damage_from']],\n",
    "        'no_damage_to':       [t['name'] for t in rel['no_damage_to']],\n",
    "        'no_damage_from':     [t['name'] for t in rel['no_damage_from']]\n",
    "    }\n",
    "\n",
    "# 3) Información de un movimiento\n",
    "@tool('get_move_info')\n",
    "def get_move_info(move_name: str):\n",
    "    \"\"\"Devuelve precisión, poder, PP, tipo y clase de daño de un movimiento.\"\"\"\n",
    "    r = requests.get(f\"{BASE}/move/{_norm(move_name)}\", timeout=20)\n",
    "    r.raise_for_status()\n",
    "    d = r.json()\n",
    "    return {\n",
    "        'name': d['name'],\n",
    "        'accuracy': d.get('accuracy'),\n",
    "        'power': d.get('power'),\n",
    "        'pp': d.get('pp'),\n",
    "        'type': d['type']['name'],\n",
    "        'damage_class': d['damage_class']['name']\n",
    "    }\n",
    "\n",
    "# 4) Caminos evolutivos\n",
    "def _walk_chain(chain):\n",
    "    paths = []\n",
    "    def dfs(node, path):\n",
    "        curr = node['species']['name']\n",
    "        new_path = path + [curr]\n",
    "        if not node['evolves_to']:\n",
    "            paths.append(new_path)\n",
    "        else:\n",
    "            for nxt in node['evolves_to']:\n",
    "                dfs(nxt, new_path)\n",
    "    dfs(chain, [])\n",
    "    return paths\n",
    "\n",
    "@tool('get_evolution_paths')\n",
    "def get_evolution_paths(pokemon_name: str):\n",
    "    \"\"\"Devuelve todas las rutas evolutivas posibles de un Pokémon.\"\"\"\n",
    "    r = requests.get(f\"{BASE}/pokemon-species/{_norm(pokemon_name)}\", timeout=20)\n",
    "    r.raise_for_status()\n",
    "    species = r.json()\n",
    "    evo_url = species['evolution_chain']['url']\n",
    "    r = requests.get(evo_url, timeout=20)\n",
    "    r.raise_for_status()\n",
    "    chain = r.json()['chain']\n",
    "    return _walk_chain(chain)\n",
    "\n",
    "# 5) Comparación de TODOS los stats (con schema)\n",
    "class CompareArgs(BaseModel):\n",
    "    \"\"\"Compara los stats base de dos Pokémon.\"\"\"\n",
    "    pokemon1: str = Field(..., description=\"Nombre del primer Pokémon. Ej: 'Gengar'\")\n",
    "    pokemon2: str = Field(..., description=\"Nombre del segundo Pokémon. Ej: 'Alakazam'\")\n",
    "\n",
    "@tool('compare_pokemon', args_schema=CompareArgs)\n",
    "def compare_pokemon(pokemon1: str, pokemon2: str):\n",
    "    \"\"\"Compara los stats base de dos Pokémon y devuelve el ganador por cada stat.\"\"\"\n",
    "    def _get_stats(name):\n",
    "        r = requests.get(f\"{BASE}/pokemon/{_norm(name)}\", timeout=20)\n",
    "        r.raise_for_status()\n",
    "        d = r.json()\n",
    "        return {s['stat']['name']: s['base_stat'] for s in d['stats']}\n",
    "    stats1 = _get_stats(pokemon1)\n",
    "    stats2 = _get_stats(pokemon2)\n",
    "    result = {}\n",
    "    for stat in stats1:\n",
    "        if stats1[stat] > stats2[stat]:\n",
    "            winner = pokemon1\n",
    "        elif stats1[stat] < stats2[stat]:\n",
    "            winner = pokemon2\n",
    "        else:\n",
    "            winner = 'Empate'\n",
    "        result[stat] = {pokemon1: stats1[stat], pokemon2: stats2[stat], 'winner': winner}\n",
    "    return result\n",
    "\n",
    "# 6) Comparación de UN solo stat (con schema)\n",
    "class CompareStatArgs(BaseModel):\n",
    "    \"\"\"Compara un stat específico entre dos Pokémon.\"\"\"\n",
    "    pokemon1: str = Field(..., description=\"Nombre del primer Pokémon\")\n",
    "    pokemon2: str = Field(..., description=\"Nombre del segundo Pokémon\")\n",
    "    stat: str = Field(..., description=\"Stat a comparar. Ej: 'speed', 'attack', 'defense', 'special-attack', 'special-defense', 'hp'\")\n",
    "\n",
    "@tool('compare_stat', args_schema=CompareStatArgs)\n",
    "def compare_stat(pokemon1: str, pokemon2: str, stat: str):\n",
    "    \"\"\"Compara un único stat entre dos Pokémon y devuelve el ganador.\"\"\"\n",
    "    def _get_stats(name):\n",
    "        r = requests.get(f\"{BASE}/pokemon/{_norm(name)}\", timeout=20)\n",
    "        r.raise_for_status()\n",
    "        d = r.json()\n",
    "        return {s['stat']['name']: s['base_stat'] for s in d['stats']}\n",
    "    stats1 = _get_stats(pokemon1)\n",
    "    stats2 = _get_stats(pokemon2)\n",
    "    val1, val2 = stats1.get(stat), stats2.get(stat)\n",
    "    if val1 is None or val2 is None:\n",
    "        return {'error': f\"Stat '{stat}' no encontrado. Usa uno de: {list(stats1.keys())}\"}\n",
    "    if val1 > val2:\n",
    "        winner = pokemon1\n",
    "    elif val2 > val1:\n",
    "        winner = pokemon2\n",
    "    else:\n",
    "        winner = 'Empate'\n",
    "    return {'stat': stat, pokemon1: val1, pokemon2: val2, 'winner': winner}\n",
    "\n",
    "# 7) 🔎 Tool RAG\n",
    "@tool('search_pokemon_knowledge')\n",
    "def search_pokemon_knowledge(query: str):\n",
    "    \"\"\"Busca en el vector store (lore/trivia) y devuelve fragmentos relevantes.\"\"\"\n",
    "    docs = retriever.invoke(query)\n",
    "    return [{'content': d.page_content, 'source': d.metadata.get('source', 'unknown')} for d in docs]\n",
    "\n",
    "# Lista final de tools\n",
    "TOOLS = [\n",
    "    get_pokemon_info,\n",
    "    get_type_info,\n",
    "    get_move_info,\n",
    "    get_evolution_paths,\n",
    "    compare_pokemon,\n",
    "    compare_stat,\n",
    "    search_pokemon_knowledge\n",
    "]\n",
    "print('✅ Tools Pokémon + RAG listos (con schemas de comparación)')"
   ]
  },
  {
   "cell_type": "markdown",
   "id": "bfbf55b9",
   "metadata": {},
   "source": [
    "## 🧠 Agente ReAct (español) usando tools y RAG"
   ]
  },
  {
   "cell_type": "code",
   "execution_count": 11,
   "id": "aef1c904",
   "metadata": {},
   "outputs": [
    {
     "name": "stdout",
     "output_type": "stream",
     "text": [
      "✅ AgentExecutor listo (con RAG y comparadores)\n"
     ]
    }
   ],
   "source": [
    "from langchain import hub\n",
    "from langchain.agents import create_react_agent, AgentExecutor\n",
    "\n",
    "prompt = hub.pull('hwchase17/react')\n",
    "extra_instruction = '''\\nResponde SIEMPRE en español.\\n- Para **datos técnicos** (stats, tipos, evoluciones, movimientos), usa las tools de **PokéAPI**.\\n- Para **lore/trivia**, usa **search_pokemon_knowledge** (RAG) y cita brevemente la fuente entre [corchetes].\\n- Para comparar TODOS los stats usa `compare_pokemon` (requiere pokemon1 y pokemon2).\\n- Para comparar un solo stat usa `compare_stat` con el nombre del stat.\\n- Si usas `compare_pokemon`, muestra una **tabla Markdown**: Stat | Valor de Pokémon 1 | Valor de Pokémon 2 | Ganador; y añade un **resumen** con el ganador global.\\n'''\n",
    "prompt = prompt.partial(instructions=extra_instruction)\n",
    "\n",
    "agent = create_react_agent(llm, TOOLS, prompt)\n",
    "agent_executor = AgentExecutor(agent=agent, tools=TOOLS, verbose=True)\n",
    "print('✅ AgentExecutor listo (con RAG y comparadores)')"
   ]
  },
  {
   "cell_type": "markdown",
   "id": "c4299dc4",
   "metadata": {},
   "source": [
    "## 🧵 Memoria con LangGraph (thread_id) y ejemplo"
   ]
  },
  {
   "cell_type": "code",
   "execution_count": 12,
   "id": "ab3e552f",
   "metadata": {},
   "outputs": [
    {
     "name": "stdout",
     "output_type": "stream",
     "text": [
      "✅ app creada con memoria (LangGraph)\n"
     ]
    }
   ],
   "source": [
    "from langgraph.graph import StateGraph, END\n",
    "from langgraph.graph.message import MessagesState\n",
    "from langgraph.checkpoint.memory import MemorySaver\n",
    "from langchain_core.messages import AIMessage\n",
    "\n",
    "def agent_node(state: MessagesState):\n",
    "    msgs = state['messages']\n",
    "    last_user = None\n",
    "    for m in reversed(msgs):\n",
    "        if isinstance(m, tuple):\n",
    "            role, content = m\n",
    "            if role == 'user':\n",
    "                last_user = content\n",
    "                break\n",
    "        else:\n",
    "            if getattr(m, 'type', '') == 'human':\n",
    "                last_user = m.content\n",
    "                break\n",
    "    if not last_user:\n",
    "        last_user = 'Hola, ¿en qué puedo ayudarte con Pokémon?'\n",
    "\n",
    "    result = agent_executor.invoke({'input': last_user})\n",
    "    answer = result.get('output', '')\n",
    "    return {'messages': [AIMessage(content=answer)]}\n",
    "\n",
    "graph = StateGraph(MessagesState)\n",
    "graph.add_node('agent', agent_node)\n",
    "graph.set_entry_point('agent')\n",
    "graph.add_edge('agent', END)\n",
    "\n",
    "memory = MemorySaver()\n",
    "app = graph.compile(checkpointer=memory)\n",
    "print('✅ app creada con memoria (LangGraph)')"
   ]
  },
  {
   "cell_type": "code",
   "execution_count": 16,
   "id": "359295fe",
   "metadata": {},
   "outputs": [
    {
     "name": "stdout",
     "output_type": "stream",
     "text": [
      "\n",
      "\n",
      "\u001b[1m> Entering new AgentExecutor chain...\u001b[0m\n",
      "\u001b[32;1m\u001b[1;3mPara responder a la pregunta, primero necesito obtener información sobre Gengar, específicamente su tipo. Luego, puedo averiguar contra qué tipos es fuerte o débil. \n",
      "\n",
      "Action: get_pokemon_info  \n",
      "Action Input: \"Gengar\"  \u001b[0m\u001b[36;1m\u001b[1;3m{'name': 'gengar', 'id': 94, 'types': ['ghost', 'poison'], 'stats': {'hp': 60, 'attack': 65, 'defense': 60, 'special-attack': 130, 'special-defense': 75, 'speed': 110}, 'height': 15, 'weight': 405}\u001b[0m\u001b[32;1m\u001b[1;3mAhora sé que Gengar es de tipo Fantasma y Veneno. A continuación, necesito averiguar contra qué tipos es fuerte o débil.\n",
      "\n",
      "Action: get_type_info  \n",
      "Action Input: \"ghost\"  \u001b[0m\u001b[33;1m\u001b[1;3m{'name': 'ghost', 'double_damage_to': ['ghost', 'psychic'], 'double_damage_from': ['ghost', 'dark'], 'half_damage_to': ['dark'], 'half_damage_from': ['poison', 'bug'], 'no_damage_to': ['normal'], 'no_damage_from': ['normal', 'fighting']}\u001b[0m\u001b[32;1m\u001b[1;3mAhora tengo información sobre el tipo Fantasma. Gengar es fuerte contra los tipos Fantasma y Psíquico, y débil contra los tipos Fantasma y Siniestro. Ahora necesito obtener información sobre el tipo Veneno para completar la respuesta.\n",
      "\n",
      "Action: get_type_info  \n",
      "Action Input: \"poison\"  \u001b[0m\u001b[33;1m\u001b[1;3m{'name': 'poison', 'double_damage_to': ['grass', 'fairy'], 'double_damage_from': ['ground', 'psychic'], 'half_damage_to': ['poison', 'ground', 'rock', 'ghost'], 'half_damage_from': ['fighting', 'poison', 'bug', 'grass', 'fairy'], 'no_damage_to': ['steel'], 'no_damage_from': []}\u001b[0m\u001b[32;1m\u001b[1;3mAhora tengo información sobre el tipo Veneno. Gengar es fuerte contra los tipos Planta y Hada, y débil contra los tipos Tierra y Psíquico. \n",
      "\n",
      "Final Answer: Gengar es de tipo Fantasma y Veneno. Es fuerte contra los tipos Fantasma, Psíquico, Planta y Hada, y débil contra los tipos Fantasma, Siniestro, Tierra y Psíquico.\u001b[0m\n",
      "\n",
      "\u001b[1m> Finished chain.\u001b[0m\n",
      "Gengar es de tipo Fantasma y Veneno. Es fuerte contra los tipos Fantasma, Psíquico, Planta y Hada, y débil contra los tipos Fantasma, Siniestro, Tierra y Psíquico.\n",
      "\n",
      "\n",
      "\u001b[1m> Entering new AgentExecutor chain...\u001b[0m\n",
      "\u001b[32;1m\u001b[1;3mPara responder a la pregunta sobre la historia de un Pokémon, necesito buscar información relevante en la base de datos de lore o trivia. Así que procederé a realizar una búsqueda.\n",
      "\n",
      "Action: search_pokemon_knowledge  \n",
      "Action Input: \"historia Pokémon\"  \u001b[0m\u001b[36;1m\u001b[1;3m[{'content': 'Pikachu almacena electricidad en las bolsas de sus mejillas; cuando se enfada puede liberar potentes descargas.', 'source': 'lore'}, {'content': 'Pikachu almacena electricidad en sus mejillas y puede liberar potentes descargas.', 'source': 'lore'}, {'content': 'Pikachu almacena electricidad en sus mejillas y puede liberar potentes descargas.', 'source': 'lore'}]\u001b[0m\u001b[32;1m\u001b[1;3mHe encontrado información sobre Pikachu, que menciona que almacena electricidad en las bolsas de sus mejillas y puede liberar potentes descargas cuando se enfada. Sin embargo, no tengo información más detallada sobre su historia específica. \n",
      "\n",
      "Final Answer: Pikachu almacena electricidad en las bolsas de sus mejillas y puede liberar potentes descargas cuando se enfada.\u001b[0m\n",
      "\n",
      "\u001b[1m> Finished chain.\u001b[0m\n",
      "Pikachu almacena electricidad en las bolsas de sus mejillas y puede liberar potentes descargas cuando se enfada.\n"
     ]
    }
   ],
   "source": [
    "# ▶️ Ejemplos con hilo (memoria)\n",
    "config = {'configurable': {'thread_id': 'pokemon-demo-1'}}\n",
    "\n",
    "# 1) Pregunta general + comparación puntual de VELOCIDAD\n",
    "r1 = app.invoke({'messages': [('user', '¿De qué tipo es Gengar y contra qué tipos es fuerte o débil?')]}, config)\n",
    "print(r1['messages'][-1].content)\n",
    "\n",
    "# 2) Comparación de TODOS los stats\n",
    "r2 = app.invoke({'messages': [('user', 'Dime sobre su historia ')]}, config)\n",
    "print(r2['messages'][-1].content)"
   ]
  }
 ],
 "metadata": {
  "kernelspec": {
   "display_name": "Python 3",
   "language": "python",
   "name": "python3"
  },
  "language_info": {
   "name": "python",
   "version": "3.12"
  }
 },
 "nbformat": 4,
 "nbformat_minor": 5
}
